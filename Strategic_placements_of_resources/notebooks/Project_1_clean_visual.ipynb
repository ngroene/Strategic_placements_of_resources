{
 "cells": [
  {
   "cell_type": "code",
   "execution_count": 1,
   "metadata": {},
   "outputs": [],
   "source": [
    "import pandas as pd\n",
    "import numpy as np\n",
    "import datetime\n",
    "from matplotlib import pyplot as plt\n",
    "import pickle "
   ]
  },
  {
   "cell_type": "code",
   "execution_count": 2,
   "metadata": {},
   "outputs": [],
   "source": [
    "#df_path = '~/Documents/GitHub/metis_coursework/project_1/data/Turnstile_Usage_Data__2019.csv' #your own path of the file\n",
    "df_path = '~/Documents/GitHub/Metis_project1/Turnstile_Usage_Data__2019.csv'\n",
    "\n",
    "df = pd.read_csv(df_path,header = 0)"
   ]
  },
  {
   "cell_type": "code",
   "execution_count": 3,
   "metadata": {},
   "outputs": [
    {
     "name": "stdout",
     "output_type": "stream",
     "text": [
      "<class 'pandas.core.frame.DataFrame'>\n",
      "RangeIndex: 10467101 entries, 0 to 10467100\n",
      "Data columns (total 11 columns):\n",
      "C/A                                                           object\n",
      "Unit                                                          object\n",
      "SCP                                                           object\n",
      "Station                                                       object\n",
      "Line Name                                                     object\n",
      "Division                                                      object\n",
      "Date                                                          object\n",
      "Time                                                          object\n",
      "Description                                                   object\n",
      "Entries                                                       int64\n",
      "Exits                                                         int64\n",
      "dtypes: int64(2), object(9)\n",
      "memory usage: 878.4+ MB\n"
     ]
    }
   ],
   "source": [
    "#simple understanding of dataset\n",
    "df.info()"
   ]
  },
  {
   "cell_type": "code",
   "execution_count": null,
   "metadata": {},
   "outputs": [],
   "source": [
    "df.head()"
   ]
  },
  {
   "cell_type": "code",
   "execution_count": 4,
   "metadata": {},
   "outputs": [],
   "source": [
    "#create unique turnstile id for each turnstile\n",
    "df['Turnstile_ID'] = df['Unit'].astype(str) + \"_\"+ df['SCP'].astype(str) +\"_\"+ df['Station'].astype(str) "
   ]
  },
  {
   "cell_type": "code",
   "execution_count": 5,
   "metadata": {},
   "outputs": [],
   "source": [
    "#clean up column name\n",
    "df.rename(columns = {'Exits                                                     ':'Exits'},inplace = True)"
   ]
  },
  {
   "cell_type": "code",
   "execution_count": 6,
   "metadata": {},
   "outputs": [],
   "source": [
    "#trim dataset so that it runs faster\n",
    "columns_to_keep = ['Turnstile_ID','Station','Date','Time','Entries','Exits']\n",
    "df_new = pd.DataFrame(df[columns_to_keep])"
   ]
  },
  {
   "cell_type": "code",
   "execution_count": 7,
   "metadata": {},
   "outputs": [],
   "source": [
    "#convert date and time into datetime format\n",
    "df_new['Date'] = df_new.Date.apply(lambda x: datetime.datetime.strptime(x, '%m/%d/%Y').date())\n",
    "df_new['Time'] = df_new.Time.apply(lambda x: datetime.datetime.strptime(x, '%H:%M:%S').time())"
   ]
  },
  {
   "cell_type": "code",
   "execution_count": 8,
   "metadata": {},
   "outputs": [
    {
     "data": {
      "text/html": [
       "<div>\n",
       "<style scoped>\n",
       "    .dataframe tbody tr th:only-of-type {\n",
       "        vertical-align: middle;\n",
       "    }\n",
       "\n",
       "    .dataframe tbody tr th {\n",
       "        vertical-align: top;\n",
       "    }\n",
       "\n",
       "    .dataframe thead th {\n",
       "        text-align: right;\n",
       "    }\n",
       "</style>\n",
       "<table border=\"1\" class=\"dataframe\">\n",
       "  <thead>\n",
       "    <tr style=\"text-align: right;\">\n",
       "      <th></th>\n",
       "      <th>Turnstile_ID</th>\n",
       "      <th>Station</th>\n",
       "      <th>Date</th>\n",
       "      <th>Time</th>\n",
       "      <th>Entries</th>\n",
       "      <th>Exits</th>\n",
       "    </tr>\n",
       "  </thead>\n",
       "  <tbody>\n",
       "    <tr>\n",
       "      <th>0</th>\n",
       "      <td>R170_02-06-00_14 ST-UNION SQ</td>\n",
       "      <td>14 ST-UNION SQ</td>\n",
       "      <td>2019-12-27</td>\n",
       "      <td>00:00:00</td>\n",
       "      <td>769115</td>\n",
       "      <td>559221</td>\n",
       "    </tr>\n",
       "    <tr>\n",
       "      <th>1</th>\n",
       "      <td>R170_02-00-04_14 ST-UNION SQ</td>\n",
       "      <td>14 ST-UNION SQ</td>\n",
       "      <td>2019-12-27</td>\n",
       "      <td>00:00:00</td>\n",
       "      <td>6483080</td>\n",
       "      <td>4945335</td>\n",
       "    </tr>\n",
       "    <tr>\n",
       "      <th>2</th>\n",
       "      <td>R170_02-00-03_14 ST-UNION SQ</td>\n",
       "      <td>14 ST-UNION SQ</td>\n",
       "      <td>2019-12-27</td>\n",
       "      <td>00:00:00</td>\n",
       "      <td>7191422</td>\n",
       "      <td>8417203</td>\n",
       "    </tr>\n",
       "    <tr>\n",
       "      <th>3</th>\n",
       "      <td>R170_02-00-02_14 ST-UNION SQ</td>\n",
       "      <td>14 ST-UNION SQ</td>\n",
       "      <td>2019-12-27</td>\n",
       "      <td>00:00:00</td>\n",
       "      <td>14983900</td>\n",
       "      <td>14554087</td>\n",
       "    </tr>\n",
       "    <tr>\n",
       "      <th>4</th>\n",
       "      <td>R170_02-06-01_14 ST-UNION SQ</td>\n",
       "      <td>14 ST-UNION SQ</td>\n",
       "      <td>2019-12-27</td>\n",
       "      <td>00:00:00</td>\n",
       "      <td>71047673</td>\n",
       "      <td>20925389</td>\n",
       "    </tr>\n",
       "  </tbody>\n",
       "</table>\n",
       "</div>"
      ],
      "text/plain": [
       "                   Turnstile_ID         Station       Date      Time  \\\n",
       "0  R170_02-06-00_14 ST-UNION SQ  14 ST-UNION SQ 2019-12-27  00:00:00   \n",
       "1  R170_02-00-04_14 ST-UNION SQ  14 ST-UNION SQ 2019-12-27  00:00:00   \n",
       "2  R170_02-00-03_14 ST-UNION SQ  14 ST-UNION SQ 2019-12-27  00:00:00   \n",
       "3  R170_02-00-02_14 ST-UNION SQ  14 ST-UNION SQ 2019-12-27  00:00:00   \n",
       "4  R170_02-06-01_14 ST-UNION SQ  14 ST-UNION SQ 2019-12-27  00:00:00   \n",
       "\n",
       "    Entries     Exits  \n",
       "0    769115    559221  \n",
       "1   6483080   4945335  \n",
       "2   7191422   8417203  \n",
       "3  14983900  14554087  \n",
       "4  71047673  20925389  "
      ]
     },
     "execution_count": 8,
     "metadata": {},
     "output_type": "execute_result"
    }
   ],
   "source": [
    "df_new.head()"
   ]
  },
  {
   "cell_type": "code",
   "execution_count": 8,
   "metadata": {},
   "outputs": [],
   "source": [
    "df_new = df_new.sort_values(by = ['Turnstile_ID','Date']).reset_index()\n"
   ]
  },
  {
   "cell_type": "code",
   "execution_count": 10,
   "metadata": {},
   "outputs": [],
   "source": [
    "df_new.to_pickle('./data_sorted_wo_diff.pkl')"
   ]
  },
  {
   "cell_type": "code",
   "execution_count": 16,
   "metadata": {},
   "outputs": [
    {
     "data": {
      "text/plain": [
       "<matplotlib.collections.PathCollection at 0x2634e8690>"
      ]
     },
     "execution_count": 16,
     "metadata": {},
     "output_type": "execute_result"
    },
    {
     "data": {
      "image/png": "[encoded data removed]",
      "text/plain": [
       "<Figure size 720x720 with 1 Axes>"
      ]
     },
     "metadata": {
      "needs_background": "light"
     },
     "output_type": "display_data"
    }
   ],
   "source": [
    "plt.figure(figsize=[10,10])\n",
    "plt.scatter(df_new.index,df_new.Exits)"
   ]
  },
  {
   "cell_type": "code",
   "execution_count": 15,
   "metadata": {},
   "outputs": [
    {
     "data": {
      "text/plain": [
       "{'whiskers': [<matplotlib.lines.Line2D at 0x14f6f2690>,\n",
       "  <matplotlib.lines.Line2D at 0x1a59de690>],\n",
       " 'caps': [<matplotlib.lines.Line2D at 0x1a59ded90>,\n",
       "  <matplotlib.lines.Line2D at 0x1a59def10>],\n",
       " 'boxes': [<matplotlib.lines.Line2D at 0x1314d2c90>],\n",
       " 'medians': [<matplotlib.lines.Line2D at 0x257ffca50>],\n",
       " 'fliers': [<matplotlib.lines.Line2D at 0x257ffc490>],\n",
       " 'means': []}"
      ]
     },
     "execution_count": 15,
     "metadata": {},
     "output_type": "execute_result"
    },
    {
     "data": {
      "image/png": "[encoded data removed]",
      "text/plain": [
       "<Figure size 720x720 with 1 Axes>"
      ]
     },
     "metadata": {
      "needs_background": "light"
     },
     "output_type": "display_data"
    }
   ],
   "source": [
    "plt.figure(figsize=[10,10])\n",
    "plt.boxplot(df_new.Entries) #data is very skewed and has many outliners which are extremely high in value"
   ]
  },
  {
   "cell_type": "code",
   "execution_count": 19,
   "metadata": {},
   "outputs": [
    {
     "data": {
      "text/plain": [
       "5178573    2129551969\n",
       "5178574    2129551904\n",
       "5178575    2129551874\n",
       "5178576    2129551796\n",
       "5178577    2129551507\n",
       "Name: Entries, dtype: int64"
      ]
     },
     "execution_count": 19,
     "metadata": {},
     "output_type": "execute_result"
    }
   ],
   "source": [
    "df_new.Entries.sort_values(ascending = False)[:5] #sort entries to understand top five"
   ]
  },
  {
   "cell_type": "code",
   "execution_count": 68,
   "metadata": {},
   "outputs": [],
   "source": [
    "quantile_to_flag = 12150 #assuming 30 pp passing through per minute\n",
    "total_num_entry = len(df_new)"
   ]
  },
  {
   "cell_type": "code",
   "execution_count": 32,
   "metadata": {},
   "outputs": [
    {
     "name": "stdout",
     "output_type": "stream",
     "text": [
      "10467101\n"
     ]
    }
   ],
   "source": [
    "print(total_num_entry)"
   ]
  },
  {
   "cell_type": "code",
   "execution_count": 16,
   "metadata": {},
   "outputs": [],
   "source": [
    "#calculate row wise difference in absolute value (accounting for backwards counting)\n",
    "df_new['entry_diff_abs'] = df_new.Entries.diff(periods = 1).abs()\n",
    "df_new['exit_diff_abs'] = df_new.Exits.diff(periods = 1).abs()\n",
    "#reset the start of every new turnstile\n",
    "df_new['entry_diff_abs'] = np.where(df_new.Turnstile_ID == df_new.Turnstile_ID.shift(periods = 1,fill_value = 0),\n",
    "                                df_new.entry_diff_abs,0)\n",
    "df_new['exit_diff_abs'] = np.where(df_new.Turnstile_ID == df_new.Turnstile_ID.shift(periods = 1,fill_value = 0),\n",
    "                               df_new.exit_diff_abs,0)"
   ]
  },
  {
   "cell_type": "code",
   "execution_count": 69,
   "metadata": {},
   "outputs": [],
   "source": [
    "# check for data that is abnormally high\n",
    "df_new['flag_high_entry_diff'] = df_new['entry_diff_abs'] > quantile_to_flag\n",
    "df_new['flag_high_exit_diff'] = df_new['exit_diff_abs'] > quantile_to_flag"
   ]
  },
  {
   "cell_type": "code",
   "execution_count": 70,
   "metadata": {},
   "outputs": [
    {
     "data": {
      "text/plain": [
       "0.08094887017904957"
      ]
     },
     "execution_count": 70,
     "metadata": {},
     "output_type": "execute_result"
    }
   ],
   "source": [
    "total_abno = np.sum([df_new.flag_high_entry_diff.sum(),df_new['flag_high_exit_diff'].sum()])\n",
    "total_abno/total_num_entry*100 #abnormal entries are less than 0.1% of total data, we will discard outliners here"
   ]
  },
  {
   "cell_type": "code",
   "execution_count": 71,
   "metadata": {},
   "outputs": [],
   "source": [
    "rows_to_drop = df_new[df_new['flag_high_entry_diff']].index.tolist() + df_new[df_new['flag_high_exit_diff']].index.tolist()"
   ]
  },
  {
   "cell_type": "code",
   "execution_count": 72,
   "metadata": {},
   "outputs": [],
   "source": [
    "df = pd.DataFrame(df_new.drop(rows_to_drop))"
   ]
  },
  {
   "cell_type": "code",
   "execution_count": 73,
   "metadata": {},
   "outputs": [],
   "source": [
    "df = df.rename(columns = {'entry_diff_abs':'Entry_diff','exit_diff_abs':'Exit_diff'})"
   ]
  },
  {
   "cell_type": "code",
   "execution_count": 75,
   "metadata": {},
   "outputs": [
    {
     "name": "stdout",
     "output_type": "stream",
     "text": [
      "<class 'pandas.core.frame.DataFrame'>\n",
      "Int64Index: 10461006 entries, 0 to 10467100\n",
      "Data columns (total 14 columns):\n",
      "index                   int64\n",
      "Turnstile_ID            object\n",
      "Station                 object\n",
      "Date                    object\n",
      "Time                    object\n",
      "Entries                 int64\n",
      "Exits                   int64\n",
      "Entry_not_increasing    bool\n",
      "Exit_not_increasing     bool\n",
      "not_start_day           bool\n",
      "Entry_diff              float64\n",
      "Exit_diff               float64\n",
      "flag_high_entry_diff    bool\n",
      "flag_high_exit_diff     bool\n",
      "dtypes: bool(5), float64(2), int64(3), object(4)\n",
      "memory usage: 848.0+ MB\n"
     ]
    }
   ],
   "source": [
    "df.info()"
   ]
  },
  {
   "cell_type": "code",
   "execution_count": 77,
   "metadata": {},
   "outputs": [],
   "source": [
    "#calculate net flow as the sum of people entering station and people exiting station\n",
    "df['Net_Flow'] = df['Entry_diff'] + df['Exit_diff']"
   ]
  },
  {
   "cell_type": "code",
   "execution_count": 78,
   "metadata": {},
   "outputs": [],
   "source": [
    "columns_to_keep = ['Turnstile_ID','Station','Date','Time','Exit_diff','Entry_diff','Net_Flow']\n",
    "df_cleaned = pd.DataFrame(df[columns_to_keep])"
   ]
  },
  {
   "cell_type": "code",
   "execution_count": 83,
   "metadata": {},
   "outputs": [],
   "source": [
    "df_cleaned.to_pickle('./data_final.pkl')"
   ]
  },
  {
   "cell_type": "code",
   "execution_count": 126,
   "metadata": {},
   "outputs": [
    {
     "data": {
      "text/plain": [
       "10861644.0"
      ]
     },
     "execution_count": 126,
     "metadata": {},
     "output_type": "execute_result"
    }
   ],
   "source": [
    "#Station flow per year\n",
    "station_flow_annual = df_cleaned.groupby(by = 'Station')['Net_Flow'].sum()\n",
    "station_flow_annual[0]"
   ]
  },
  {
   "cell_type": "code",
   "execution_count": 85,
   "metadata": {},
   "outputs": [
    {
     "name": "stdout",
     "output_type": "stream",
     "text": [
      "Index(['34 ST-PENN STA', 'GRD CNTRL-42 ST', '34 ST-HERALD SQ', '23 ST',\n",
      "       '42 ST-PORT AUTH', 'TIMES SQ-42 ST', '14 ST-UNION SQ', 'FULTON ST',\n",
      "       '86 ST', '125 ST', 'CANAL ST', '59 ST COLUMBUS', '59 ST', '14 ST',\n",
      "       '96 ST', '47-50 STS ROCK', 'CHAMBERS ST', 'FLUSHING-MAIN', '50 ST',\n",
      "       'PATH NEW WTC'],\n",
      "      dtype='object', name='Station')\n"
     ]
    }
   ],
   "source": [
    "station_flow_annual.sort_values(ascending = False,inplace = True)\n",
    "print(station_flow.index[:20]) #list of top 20"
   ]
  },
  {
   "cell_type": "code",
   "execution_count": 102,
   "metadata": {},
   "outputs": [],
   "source": [
    "station_flow_annual_prc = (station_flow_annual/station_flow_annual.sum()).cumsum()"
   ]
  },
  {
   "cell_type": "code",
   "execution_count": 148,
   "metadata": {},
   "outputs": [
    {
     "data": {
      "image/png": "[encoded data removed]",
      "text/plain": [
       "<Figure size 1080x720 with 2 Axes>"
      ]
     },
     "metadata": {
      "needs_background": "light"
     },
     "output_type": "display_data"
    }
   ],
   "source": [
    "plot_length = 10\n",
    "fig, ax1 = plt.subplots(figsize=(15, 10))\n",
    "\n",
    "ax1.bar(x = station_flow.index[:plot_length],height = station_flow[:plot_length])\n",
    "ax1.set_xticks(np.arange(plot_length))\n",
    "ax1.set_xticklabels(station_flow.index[:plot_length])\n",
    "ax1.set_xlabel('Stations')\n",
    "ax1.set_ylabel('Annual Traffic per 10 million')\n",
    "plt.title('Annual Traffic per station, Top {} stations'.format(plot_length))\n",
    "ax1.set_frame_on(False)\n",
    "ax1.set_ylim([1,5*(10**7)])\n",
    "ax1.tick_params(axis='x', rotation=45)\n",
    "\n",
    "ax2 = ax1.twinx()  # instantiate a second axes that shares the same x-axis\n",
    "\n",
    "color = 'tab:blue'\n",
    "ax2.set_ylabel('%')  # we already handled the x-label with ax1\n",
    "ax2.plot(station_flow.index[:plot_length], station_flow_annual_prc[:plot_length], color=color)\n",
    "ax2.set_frame_on(False)\n",
    "ax2.set_yticks([0.2])\n",
    "ax2.set_yticklabels(['20%'])\n",
    "\n",
    "fig.tight_layout()  # otherwise the right y-label is slightly clipped\n"
   ]
  },
  {
   "cell_type": "code",
   "execution_count": 149,
   "metadata": {},
   "outputs": [],
   "source": [
    "fig.savefig('graph1_10.png')"
   ]
  },
  {
   "cell_type": "code",
   "execution_count": 134,
   "metadata": {},
   "outputs": [],
   "source": [
    "#Station flow per day\n",
    "\n",
    "station_flow_day = station_flow_annual /363/24\n",
    "station_flow_day.sort_values(ascending = False,inplace = True)"
   ]
  },
  {
   "cell_type": "code",
   "execution_count": null,
   "metadata": {},
   "outputs": [],
   "source": []
  },
  {
   "cell_type": "code",
   "execution_count": 160,
   "metadata": {},
   "outputs": [
    {
     "data": {
      "image/png": "[encoded data removed]",
      "text/plain": [
       "<Figure size 720x720 with 1 Axes>"
      ]
     },
     "metadata": {
      "needs_background": "light"
     },
     "output_type": "display_data"
    }
   ],
   "source": [
    "plot_length = 10\n",
    "\n",
    "plt.figure(figsize=[10,10])\n",
    "plt.bar(x = station_flow_day.index[:plot_length],height = station_flow_day[:plot_length])\n",
    "plt.xticks(np.arange(plot_length),station_flow_day.index[:plot_length],rotation=45)\n",
    "plt.xlabel('Stations')\n",
    "plt.ylabel('Total Traffic per hour')\n",
    "plt.title('Total Traffic per hour, Top {} stations'.format(plot_length))\n",
    "\n",
    "plt.savefig('graph2_10.png')"
   ]
  },
  {
   "cell_type": "code",
   "execution_count": 159,
   "metadata": {},
   "outputs": [
    {
     "data": {
      "text/plain": [
       "<Figure size 432x288 with 0 Axes>"
      ]
     },
     "metadata": {},
     "output_type": "display_data"
    }
   ],
   "source": [
    "\n",
    "\n"
   ]
  },
  {
   "cell_type": "code",
   "execution_count": 62,
   "metadata": {},
   "outputs": [
    {
     "data": {
      "text/plain": [
       "343"
      ]
     },
     "execution_count": 62,
     "metadata": {},
     "output_type": "execute_result"
    }
   ],
   "source": []
  },
  {
   "cell_type": "code",
   "execution_count": null,
   "metadata": {},
   "outputs": [],
   "source": []
  }
 ],
 "metadata": {
  "kernelspec": {
   "display_name": "Python 3",
   "language": "python",
   "name": "python3"
  },
  "language_info": {
   "codemirror_mode": {
    "name": "ipython",
    "version": 3
   },
   "file_extension": ".py",
   "mimetype": "text/x-python",
   "name": "python",
   "nbconvert_exporter": "python",
   "pygments_lexer": "ipython3",
   "version": "3.7.3"
  }
 },
 "nbformat": 4,
 "nbformat_minor": 2
}
