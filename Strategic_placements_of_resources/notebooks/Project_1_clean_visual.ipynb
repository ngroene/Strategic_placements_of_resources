{
 "cells": [
  {
   "cell_type": "code",
   "execution_count": 1,
   "metadata": {},
   "outputs": [],
   "source": [
    "import pandas as pd\n",
    "import numpy as np\n",
    "import datetime\n",
    "from matplotlib import pyplot as plt\n",
    "import pickle "
   ]
  },
  {
   "cell_type": "code",
   "execution_count": 2,
   "metadata": {},
   "outputs": [],
   "source": [
    "df_path = '~/Documents/GitHub/metis_coursework/project_1/data/Turnstile_Usage_Data__2019.csv' #your own path of the file\n",
    "#df_path = '~/Documents/GitHub/Metis_project1/Turnstile_Usage_Data__2019.csv'\n",
    "\n",
    "df = pd.read_csv(df_path,header = 0)"
   ]
  },
  {
   "cell_type": "code",
   "execution_count": 3,
   "metadata": {},
   "outputs": [
    {
     "name": "stdout",
     "output_type": "stream",
     "text": [
      "<class 'pandas.core.frame.DataFrame'>\n",
      "RangeIndex: 10467101 entries, 0 to 10467100\n",
      "Data columns (total 11 columns):\n",
      "C/A                                                           object\n",
      "Unit                                                          object\n",
      "SCP                                                           object\n",
      "Station                                                       object\n",
      "Line Name                                                     object\n",
      "Division                                                      object\n",
      "Date                                                          object\n",
      "Time                                                          object\n",
      "Description                                                   object\n",
      "Entries                                                       int64\n",
      "Exits                                                         int64\n",
      "dtypes: int64(2), object(9)\n",
      "memory usage: 878.4+ MB\n"
     ]
    }
   ],
   "source": [
    "#simple understanding of dataset\n",
    "df.info()"
   ]
  },
  {
   "cell_type": "code",
   "execution_count": null,
   "metadata": {},
   "outputs": [],
   "source": [
    "df.head()"
   ]
  },
  {
   "cell_type": "code",
   "execution_count": 4,
   "metadata": {},
   "outputs": [],
   "source": [
    "#create unique turnstile id for each turnstile\n",
    "df['Turnstile_ID'] = df['Unit'].astype(str) + \"_\"+ df['SCP'].astype(str) +\"_\"+ df['Station'].astype(str) "
   ]
  },
  {
   "cell_type": "code",
   "execution_count": 5,
   "metadata": {},
   "outputs": [],
   "source": [
    "#clean up column name\n",
    "df.rename(columns = {'Exits                                                     ':'Exits'},inplace = True)"
   ]
  },
  {
   "cell_type": "code",
   "execution_count": 6,
   "metadata": {},
   "outputs": [],
   "source": [
    "#trim dataset so that it runs faster\n",
    "columns_to_keep = ['Turnstile_ID','Station','Date','Time','Entries','Exits']\n",
    "df_new = pd.DataFrame(df[columns_to_keep])"
   ]
  },
  {
   "cell_type": "code",
   "execution_count": 7,
   "metadata": {},
   "outputs": [],
   "source": [
    "#convert date and time into datetime format\n",
    "df_new['Date'] = df_new.Date.apply(lambda x: datetime.datetime.strptime(x, '%m/%d/%Y').date())\n",
    "df_new['Time'] = df_new.Time.apply(lambda x: datetime.datetime.strptime(x, '%H:%M:%S').time())"
   ]
  },
  {
   "cell_type": "code",
   "execution_count": 8,
   "metadata": {},
   "outputs": [
    {
     "data": {
      "text/html": [
       "<div>\n",
       "<style scoped>\n",
       "    .dataframe tbody tr th:only-of-type {\n",
       "        vertical-align: middle;\n",
       "    }\n",
       "\n",
       "    .dataframe tbody tr th {\n",
       "        vertical-align: top;\n",
       "    }\n",
       "\n",
       "    .dataframe thead th {\n",
       "        text-align: right;\n",
       "    }\n",
       "</style>\n",
       "<table border=\"1\" class=\"dataframe\">\n",
       "  <thead>\n",
       "    <tr style=\"text-align: right;\">\n",
       "      <th></th>\n",
       "      <th>Turnstile_ID</th>\n",
       "      <th>Station</th>\n",
       "      <th>Date</th>\n",
       "      <th>Time</th>\n",
       "      <th>Entries</th>\n",
       "      <th>Exits</th>\n",
       "    </tr>\n",
       "  </thead>\n",
       "  <tbody>\n",
       "    <tr>\n",
       "      <th>0</th>\n",
       "      <td>R170_02-06-00_14 ST-UNION SQ</td>\n",
       "      <td>14 ST-UNION SQ</td>\n",
       "      <td>2019-12-27</td>\n",
       "      <td>00:00:00</td>\n",
       "      <td>769115</td>\n",
       "      <td>559221</td>\n",
       "    </tr>\n",
       "    <tr>\n",
       "      <th>1</th>\n",
       "      <td>R170_02-00-04_14 ST-UNION SQ</td>\n",
       "      <td>14 ST-UNION SQ</td>\n",
       "      <td>2019-12-27</td>\n",
       "      <td>00:00:00</td>\n",
       "      <td>6483080</td>\n",
       "      <td>4945335</td>\n",
       "    </tr>\n",
       "    <tr>\n",
       "      <th>2</th>\n",
       "      <td>R170_02-00-03_14 ST-UNION SQ</td>\n",
       "      <td>14 ST-UNION SQ</td>\n",
       "      <td>2019-12-27</td>\n",
       "      <td>00:00:00</td>\n",
       "      <td>7191422</td>\n",
       "      <td>8417203</td>\n",
       "    </tr>\n",
       "    <tr>\n",
       "      <th>3</th>\n",
       "      <td>R170_02-00-02_14 ST-UNION SQ</td>\n",
       "      <td>14 ST-UNION SQ</td>\n",
       "      <td>2019-12-27</td>\n",
       "      <td>00:00:00</td>\n",
       "      <td>14983900</td>\n",
       "      <td>14554087</td>\n",
       "    </tr>\n",
       "    <tr>\n",
       "      <th>4</th>\n",
       "      <td>R170_02-06-01_14 ST-UNION SQ</td>\n",
       "      <td>14 ST-UNION SQ</td>\n",
       "      <td>2019-12-27</td>\n",
       "      <td>00:00:00</td>\n",
       "      <td>71047673</td>\n",
       "      <td>20925389</td>\n",
       "    </tr>\n",
       "  </tbody>\n",
       "</table>\n",
       "</div>"
      ],
      "text/plain": [
       "                   Turnstile_ID         Station       Date      Time  \\\n",
       "0  R170_02-06-00_14 ST-UNION SQ  14 ST-UNION SQ 2019-12-27  00:00:00   \n",
       "1  R170_02-00-04_14 ST-UNION SQ  14 ST-UNION SQ 2019-12-27  00:00:00   \n",
       "2  R170_02-00-03_14 ST-UNION SQ  14 ST-UNION SQ 2019-12-27  00:00:00   \n",
       "3  R170_02-00-02_14 ST-UNION SQ  14 ST-UNION SQ 2019-12-27  00:00:00   \n",
       "4  R170_02-06-01_14 ST-UNION SQ  14 ST-UNION SQ 2019-12-27  00:00:00   \n",
       "\n",
       "    Entries     Exits  \n",
       "0    769115    559221  \n",
       "1   6483080   4945335  \n",
       "2   7191422   8417203  \n",
       "3  14983900  14554087  \n",
       "4  71047673  20925389  "
      ]
     },
     "execution_count": 8,
     "metadata": {},
     "output_type": "execute_result"
    }
   ],
   "source": [
    "df_new.head()"
   ]
  },
  {
   "cell_type": "code",
   "execution_count": 8,
   "metadata": {},
   "outputs": [],
   "source": [
    "df_new = df_new.sort_values(by = ['Turnstile_ID','Date']).reset_index()\n"
   ]
  },
  {
   "cell_type": "code",
   "execution_count": 10,
   "metadata": {},
   "outputs": [],
   "source": [
    "df_new.to_pickle('./data_sorted_wo_diff.pkl')"
   ]
  },
  {
   "cell_type": "code",
   "execution_count": 16,
   "metadata": {},
   "outputs": [
    {
     "data": {
      "text/plain": [
       "<matplotlib.collections.PathCollection at 0x2634e8690>"
      ]
     },
     "execution_count": 16,
     "metadata": {},
     "output_type": "execute_result"
    },
    {
     "data": {
      "image/png": "[encoded data removed]",
      "text/plain": [
       "<Figure size 720x720 with 1 Axes>"
      ]
     },
     "metadata": {
      "needs_background": "light"
     },
     "output_type": "display_data"
    }
   ],
   "source": [
    "plt.figure(figsize=[10,10])\n",
    "plt.scatter(df_new.index,df_new.Exits)"
   ]
  },
  {
   "cell_type": "code",
   "execution_count": 15,
   "metadata": {},
   "outputs": [
    {
     "data": {
      "text/plain": [
       "{'whiskers': [<matplotlib.lines.Line2D at 0x14f6f2690>,\n",
       "  <matplotlib.lines.Line2D at 0x1a59de690>],\n",
       " 'caps': [<matplotlib.lines.Line2D at 0x1a59ded90>,\n",
       "  <matplotlib.lines.Line2D at 0x1a59def10>],\n",
       " 'boxes': [<matplotlib.lines.Line2D at 0x1314d2c90>],\n",
       " 'medians': [<matplotlib.lines.Line2D at 0x257ffca50>],\n",
       " 'fliers': [<matplotlib.lines.Line2D at 0x257ffc490>],\n",
       " 'means': []}"
      ]
     },
     "execution_count": 15,
     "metadata": {},
     "output_type": "execute_result"
    },
    {
     "data": {
      "image/png": "[encoded data removed]",
      "text/plain": [
       "<Figure size 720x720 with 1 Axes>"
      ]
     },
     "metadata": {
      "needs_background": "light"
     },
     "output_type": "display_data"
    }
   ],
   "source": [
    "plt.figure(figsize=[10,10])\n",
    "plt.boxplot(df_new.Entries) #data is very skewed and has many outliners which are extremely high in value"
   ]
  },
  {
   "cell_type": "code",
   "execution_count": 19,
   "metadata": {},
   "outputs": [
    {
     "data": {
      "text/plain": [
       "5178573    2129551969\n",
       "5178574    2129551904\n",
       "5178575    2129551874\n",
       "5178576    2129551796\n",
       "5178577    2129551507\n",
       "Name: Entries, dtype: int64"
      ]
     },
     "execution_count": 19,
     "metadata": {},
     "output_type": "execute_result"
    }
   ],
   "source": [
    "df_new.Entries.sort_values(ascending = False)[:5] #sort entries to understand top five"
   ]
  },
  {
   "cell_type": "code",
   "execution_count": 9,
   "metadata": {},
   "outputs": [],
   "source": [
    "quantile_to_flag = 12150 #assuming 30 pp passing through per minute\n",
    "total_num_entry = len(df_new)"
   ]
  },
  {
   "cell_type": "code",
   "execution_count": 32,
   "metadata": {},
   "outputs": [
    {
     "name": "stdout",
     "output_type": "stream",
     "text": [
      "10467101\n"
     ]
    }
   ],
   "source": [
    "print(total_num_entry)"
   ]
  },
  {
   "cell_type": "code",
   "execution_count": 10,
   "metadata": {},
   "outputs": [],
   "source": [
    "#calculate row wise difference in absolute value (accounting for backwards counting)\n",
    "df_new['entry_diff_abs'] = df_new.Entries.diff(periods = 1).abs()\n",
    "df_new['exit_diff_abs'] = df_new.Exits.diff(periods = 1).abs()\n",
    "#reset the start of every new turnstile\n",
    "df_new['entry_diff_abs'] = np.where(df_new.Turnstile_ID == df_new.Turnstile_ID.shift(periods = 1,fill_value = 0),\n",
    "                                df_new.entry_diff_abs,0)\n",
    "df_new['exit_diff_abs'] = np.where(df_new.Turnstile_ID == df_new.Turnstile_ID.shift(periods = 1,fill_value = 0),\n",
    "                               df_new.exit_diff_abs,0)"
   ]
  },
  {
   "cell_type": "code",
   "execution_count": 11,
   "metadata": {},
   "outputs": [],
   "source": [
    "# check for data that is abnormally high\n",
    "df_new['flag_high_entry_diff'] = df_new['entry_diff_abs'] > quantile_to_flag\n",
    "df_new['flag_high_exit_diff'] = df_new['exit_diff_abs'] > quantile_to_flag"
   ]
  },
  {
   "cell_type": "code",
   "execution_count": 12,
   "metadata": {},
   "outputs": [
    {
     "data": {
      "text/plain": [
       "0.08094887017904957"
      ]
     },
     "execution_count": 12,
     "metadata": {},
     "output_type": "execute_result"
    }
   ],
   "source": [
    "total_abno = np.sum([df_new.flag_high_entry_diff.sum(),df_new['flag_high_exit_diff'].sum()])\n",
    "total_abno/total_num_entry*100 #abnormal entries are less than 0.1% of total data, we will discard outliners here"
   ]
  },
  {
   "cell_type": "code",
   "execution_count": 14,
   "metadata": {},
   "outputs": [
    {
     "name": "stdout",
     "output_type": "stream",
     "text": [
      "<class 'pandas.core.frame.DataFrame'>\n",
      "RangeIndex: 10467101 entries, 0 to 10467100\n",
      "Data columns (total 11 columns):\n",
      "index                   int64\n",
      "Turnstile_ID            object\n",
      "Station                 object\n",
      "Date                    object\n",
      "Time                    object\n",
      "Entries                 int64\n",
      "Exits                   int64\n",
      "entry_diff_abs          float64\n",
      "exit_diff_abs           float64\n",
      "flag_high_entry_diff    bool\n",
      "flag_high_exit_diff     bool\n",
      "dtypes: bool(2), float64(2), int64(3), object(4)\n",
      "memory usage: 738.7+ MB\n"
     ]
    }
   ],
   "source": []
  },
  {
   "cell_type": "code",
   "execution_count": 13,
   "metadata": {},
   "outputs": [],
   "source": [
    "rows_to_drop = df_new[df_new['flag_high_entry_diff']].index.tolist() + df_new[df_new['flag_high_exit_diff']].index.tolist()"
   ]
  },
  {
   "cell_type": "code",
   "execution_count": 15,
   "metadata": {},
   "outputs": [],
   "source": [
    "df = pd.DataFrame(df_new.drop(rows_to_drop))"
   ]
  },
  {
   "cell_type": "code",
   "execution_count": 16,
   "metadata": {},
   "outputs": [],
   "source": [
    "df = df.rename(columns = {'entry_diff_abs':'Entry_diff','exit_diff_abs':'Exit_diff'})"
   ]
  },
  {
   "cell_type": "code",
   "execution_count": 75,
   "metadata": {},
   "outputs": [
    {
     "name": "stdout",
     "output_type": "stream",
     "text": [
      "<class 'pandas.core.frame.DataFrame'>\n",
      "Int64Index: 10461006 entries, 0 to 10467100\n",
      "Data columns (total 14 columns):\n",
      "index                   int64\n",
      "Turnstile_ID            object\n",
      "Station                 object\n",
      "Date                    object\n",
      "Time                    object\n",
      "Entries                 int64\n",
      "Exits                   int64\n",
      "Entry_not_increasing    bool\n",
      "Exit_not_increasing     bool\n",
      "not_start_day           bool\n",
      "Entry_diff              float64\n",
      "Exit_diff               float64\n",
      "flag_high_entry_diff    bool\n",
      "flag_high_exit_diff     bool\n",
      "dtypes: bool(5), float64(2), int64(3), object(4)\n",
      "memory usage: 848.0+ MB\n"
     ]
    }
   ],
   "source": [
    "df.info()"
   ]
  },
  {
   "cell_type": "code",
   "execution_count": 17,
   "metadata": {},
   "outputs": [],
   "source": [
    "#calculate net flow as the sum of people entering station and people exiting station\n",
    "df['Net_Flow'] = df['Entry_diff'] + df['Exit_diff']"
   ]
  },
  {
   "cell_type": "code",
   "execution_count": 18,
   "metadata": {},
   "outputs": [],
   "source": [
    "columns_to_keep = ['Turnstile_ID','Station','Date','Time','Exit_diff','Entry_diff','Net_Flow']\n",
    "df_cleaned = pd.DataFrame(df[columns_to_keep])"
   ]
  },
  {
   "cell_type": "code",
   "execution_count": 19,
   "metadata": {},
   "outputs": [],
   "source": [
    "df_cleaned.to_pickle('./data_final.pkl')"
   ]
  },
  {
   "cell_type": "code",
   "execution_count": 20,
   "metadata": {},
   "outputs": [
    {
     "data": {
      "text/plain": [
       "10861644.0"
      ]
     },
     "execution_count": 20,
     "metadata": {},
     "output_type": "execute_result"
    }
   ],
   "source": [
    "#Station flow per year\n",
    "station_flow_annual = df_cleaned.groupby(by = 'Station')['Net_Flow'].sum()\n",
    "station_flow_annual[0]"
   ]
  },
  {
   "cell_type": "code",
   "execution_count": 22,
   "metadata": {},
   "outputs": [
    {
     "name": "stdout",
     "output_type": "stream",
     "text": [
      "Index(['34 ST-PENN STA', 'GRD CNTRL-42 ST', '34 ST-HERALD SQ', '23 ST',\n",
      "       'TIMES SQ-42 ST', '14 ST-UNION SQ', '42 ST-PORT AUTH', 'FULTON ST',\n",
      "       '86 ST', '125 ST', 'CANAL ST', '59 ST COLUMBUS', '59 ST', '14 ST',\n",
      "       '47-50 STS ROCK', '96 ST', 'FLUSHING-MAIN', 'CHAMBERS ST',\n",
      "       'PATH NEW WTC', '72 ST'],\n",
      "      dtype='object', name='Station')\n"
     ]
    }
   ],
   "source": [
    "station_flow_annual.sort_values(ascending = False,inplace = True)\n",
    "print(station_flow_annual.index[:20]) #list of top 20"
   ]
  },
  {
   "cell_type": "code",
   "execution_count": 23,
   "metadata": {},
   "outputs": [],
   "source": [
    "station_flow_annual_prc = (station_flow_annual/station_flow_annual.sum()).cumsum()"
   ]
  },
  {
   "cell_type": "code",
   "execution_count": 39,
   "metadata": {},
   "outputs": [
    {
     "data": {
      "image/png": "[encoded data removed]",
      "text/plain": [
       "<Figure size 1080x720 with 2 Axes>"
      ]
     },
     "metadata": {
      "needs_background": "light"
     },
     "output_type": "display_data"
    }
   ],
   "source": [
    "plot_length = 20\n",
    "fig, ax1 = plt.subplots(figsize=(15, 10))\n",
    "\n",
    "ax1.bar(x = station_flow_annual.index[:plot_length],height = station_flow_annual[:plot_length])\n",
    "ax1.set_xticks(np.arange(plot_length))\n",
    "ax1.set_xticklabels(station_flow_annual.index[:plot_length])\n",
    "ax1.set_xlabel('Stations')\n",
    "ax1.set_ylabel('Annual Traffic')\n",
    "plt.title('Annual Traffic per station, Top {} stations'.format(plot_length))\n",
    "ax1.set_frame_on(False)\n",
    "ax1.set_ylim([1,10*(10**7)])\n",
    "ax1.tick_params(axis='x', rotation=45)\n",
    "ax1.set_yticklabels(['20 million','40 million','60 million','80 million','100 million'])\n",
    "ax1.tick_params(axis = u'both', which=u'both',length=0)\n",
    "\n",
    "ax2 = ax1.twinx()  # instantiate a second axes that shares the same x-axis\n",
    "\n",
    "color = 'tab:blue'\n",
    "ax2.set_ylabel('%')  # we already handled the x-label with ax1\n",
    "ax2.plot(station_flow_annual.index[:plot_length], station_flow_annual_prc[:plot_length], color=color)\n",
    "ax2.set_frame_on(False)\n",
    "ax2.set_yticks([0.3])\n",
    "ax2.set_yticklabels(['30%'])\n",
    "ax2.tick_params(axis = u'both', which=u'both',length=0)\n",
    "\n",
    "fig.tight_layout()  # otherwise the right y-label is slightly clipped\n",
    "\n",
    "fig.savefig('graph1_{}.png'.format(plot_length))"
   ]
  },
  {
   "cell_type": "code",
   "execution_count": 27,
   "metadata": {},
   "outputs": [],
   "source": [
    "#Station flow per day\n",
    "\n",
    "station_flow_day = station_flow_annual /363/24\n",
    "station_flow_day.sort_values(ascending = False,inplace = True)"
   ]
  },
  {
   "cell_type": "code",
   "execution_count": 28,
   "metadata": {},
   "outputs": [
    {
     "data": {
      "image/png": "[encoded data removed]",
      "text/plain": [
       "<Figure size 720x720 with 1 Axes>"
      ]
     },
     "metadata": {
      "needs_background": "light"
     },
     "output_type": "display_data"
    }
   ],
   "source": [
    "plot_length = 10\n",
    "\n",
    "plt.figure(figsize=[10,10])\n",
    "plt.bar(x = station_flow_day.index[:plot_length],height = station_flow_day[:plot_length])\n",
    "plt.xticks(np.arange(plot_length),station_flow_day.index[:plot_length],rotation=45)\n",
    "plt.xlabel('Stations')\n",
    "plt.ylabel('Total Traffic per hour')\n",
    "plt.title('Total Traffic per hour, Top {} stations'.format(plot_length))\n",
    "\n",
    "plt.savefig('graph2_10.png')"
   ]
  },
  {
   "cell_type": "code",
   "execution_count": 34,
   "metadata": {},
   "outputs": [],
   "source": [
    "station_names = station_flow_day.index.tolist()"
   ]
  },
  {
   "cell_type": "code",
   "execution_count": 35,
   "metadata": {},
   "outputs": [
    {
     "name": "stdout",
     "output_type": "stream",
     "text": [
      "['34 ST-PENN STA', 'GRD CNTRL-42 ST', '34 ST-HERALD SQ', '23 ST', 'TIMES SQ-42 ST', '14 ST-UNION SQ', '42 ST-PORT AUTH', 'FULTON ST', '86 ST', '125 ST', 'CANAL ST', '59 ST COLUMBUS', '59 ST', '14 ST', '47-50 STS ROCK', '96 ST', 'FLUSHING-MAIN', 'CHAMBERS ST', 'PATH NEW WTC', '72 ST', '50 ST', 'JKSN HT-ROOSVLT', 'ATL AV-BARCLAY', '28 ST', 'W 4 ST-WASH SQ', '42 ST-BRYANT PK', 'LEXINGTON AV/53', 'WALL ST', '7 AV', '145 ST', 'JAY ST-METROTEC', '8 AV', 'CHURCH AV', 'JAMAICA CENTER', '57 ST-7 AV', '77 ST', '72 ST-2 AVE', 'BOROUGH HALL', 'GRAND ST', 'JOURNAL SQUARE', 'BOWLING GREEN', '116 ST', \"B'WAY-LAFAYETTE\", 'KINGS HWY', '5 AV/53 ST', '103 ST', 'DELANCEY/ESSEX', '33 ST', 'KEW GARDENS', 'CROWN HTS-UTICA', '86 ST-2 AVE', 'LEXINGTON AV/63', 'DEKALB AV', 'GROVE STREET', '66 ST-LINCOLN', '51 ST', '49 ST', 'SUTPHIN-ARCHER', 'BEDFORD AV', '181 ST', '161/YANKEE STAD', 'THIRTY THIRD ST', 'SPRING ST', '34 ST-HUDSON YD', 'FOREST HILLS 71', '68ST-HUNTER CO', 'WOODHAVEN BLVD', 'JUNCTION BLVD', 'NOSTRAND AV', 'CORTLANDT ST', 'FRANKLIN AV', 'PAVONIA/NEWPORT', '1 AV', '103 ST-CORONA', 'ASTOR PL', '61 ST WOODSIDE', '2 AV', 'BROOKLYN BRIDGE', 'CITY / BUS', 'COURT SQ', 'WHITEHALL S-FRY', '96 ST-2 AVE', '82 ST-JACKSON H', 'EXCHANGE PLACE', '3 AV-149 ST', 'WORLD TRADE CTR', 'ASTORIA DITMARS', 'PARKCHESTER', '79 ST', 'FLATBUSH AV-B.C', 'MYRTLE-WYCKOFF', 'CHRISTOPHER ST', 'FORDHAM RD', 'CATHEDRAL PKWY', '36 ST', '167 ST', '57 ST', 'UTICA AV', 'JAMAICA 179 ST', '8 ST-NYU', '30 AV', 'KINGSBRIDGE RD', '135 ST', 'GRAND-NEWTOWN', 'SOUTH FERRY', '168 ST', 'CONEY IS-STILLW', '5 AV/59 ST', 'BROADWAY', 'PRINCE ST', 'QUEENS PLAZA', 'BAY PKWY', 'STEINWAY ST', 'BERGEN ST', 'SHEEPSHEAD BAY', 'VERNON-JACKSON', '81 ST-MUSEUM', 'WTC-CORTLANDT', '170 ST', '111 ST', '90 ST-ELMHURST', 'MARCY AV', 'HIGH ST', 'METROPOLITAN AV', 'HOUSTON ST', '137 ST CITY COL', '5 AVE', '46 ST BLISS ST', 'RECTOR ST', 'BLEECKER ST', 'GUN HILL RD', 'HALSEY ST', 'JFK JAMAICA CT1', 'EAST BROADWAY', '63 DR-REGO PARK', 'HOYT-SCHER', '18 AV', '116 ST-COLUMBIA', '175 ST', 'BEDFORD PK BLVD', 'NASSAU AV', 'NEVINS ST', 'FT HAMILTON PKY', 'QUEENSBORO PLZ', 'PROSPECT PARK', '157 ST', '149/GRAND CONC', 'CLINTON-WASH AV', 'LACKAWANNA', 'ROCKAWAY AV', 'BRIGHTON BEACH', 'PROSPECT AV', '110 ST', 'CANARSIE-ROCKAW', 'NEWKIRK PLAZA', 'HUNTS POINT AV', 'THIRTY ST', 'MYRTLE AV', 'TWENTY THIRD ST', 'AVENUE U', 'FLUSHING AV', '14TH STREET', 'NEWARK HM HE', '40 ST LOWERY ST', '53 ST', '21 ST-QNSBRIDGE', 'YORK ST', 'GREENPOINT AV', 'DYCKMAN ST', 'BROADWAY JCT', '33 ST-RAWSON ST', 'HARRISON', 'PELHAM PKWY', 'CENTRAL PK N110', 'LORIMER ST', 'CARROLL ST', 'NEWARK BM BW', 'TREMONT AV', 'ELMHURST AV', '4AV-9 ST', '46 ST', 'BURNSIDE AV', '169 ST', '191 ST', 'INWOOD-207 ST', 'NORWOOD 205 ST', 'ROOSEVELT ISLND', 'EUCLID AV', 'GRAHAM AV', 'HOYT ST', 'BEDFORD-NOSTRAN', 'E 180 ST', 'PARSONS BLVD', '18 ST', 'PATH WTC 2', 'METS-WILLETS PT', '3 AV 138 ST', 'OZONE PK LEFFRT', 'SUTTER AV-RUTLD', '174 ST', 'CASTLE HILL AV', '67 AV', 'UNION ST', 'NEWARK HW BMEBE', 'ELDER AV', 'KINGSTON-THROOP', '36 AV', 'ST. GEORGE', 'BAY RIDGE AV', '20 AV', '45 ST', 'FRESH POND RD', 'NORTHERN BLVD', '52 ST', 'WEST FARMS SQ', 'MORISN AV/SNDVW', 'NEWKIRK AV', '9TH STREET', 'NEW LOTS AV', 'BROOK AV', '3 AV', 'HUNTERS PT AV', 'VAN SICLEN AV', 'SIMPSON ST', 'WESTCHESTER SQ', '9 AV', '155 ST', 'PELHAM BAY PARK', 'MOSHOLU PKWY', 'CLASSON AV', 'GRANT AV', '231 ST', 'MORGAN AV', '69 ST', 'SARATOGA AV', 'PARKSIDE AV', '15 ST-PROSPECT', 'V.CORTLANDT PK', 'SMITH-9 ST', 'GRAND ARMY PLAZ', 'BROAD ST', 'ROCKAWAY BLVD', 'WAKEFIELD/241', 'GATES AV', 'KNICKERBOCKER', 'MONTROSE AV', 'JAMAICA VAN WK', 'HOWARD BCH JFK', 'CRESCENT ST', 'E 149 ST', 'BAY RIDGE-95 ST', '207 ST', 'FAR ROCKAWAY', 'MYRTLE-WILLOUGH', 'PARK PLACE', 'RALPH AV', '183 ST', 'EASTCHSTER/DYRE', 'JEFFERSON ST', 'KINGSTON AV', 'CENTRAL AV', 'CLARK ST', '176 ST', 'AVENUE J', 'CITY HALL', 'STERLING ST', '4 AV-9 ST', '74 ST-BROADWAY', 'WOODLAWN', 'FRANKLIN ST', '163 ST-AMSTERDM', 'MT EDEN AV', 'FREEMAN ST', 'EASTN PKWY-MUSM', 'NEW LOTS', 'BOWERY', 'WILSON AV', 'ST LAWRENCE AV', 'COURT SQ-23 ST', 'AVENUE M', 'CORTELYOU RD', '6 AV', 'NEW UTRECHT AV', '174-175 STS', '71 ST', 'SUTPHIN BLVD', 'LAFAYETTE AV', 'KOSCIUSZKO ST', 'BRIARWOOD', 'ALLERTON AV', 'WINTHROP ST', 'FOREST AVE', 'PRESIDENT ST', 'HARLEM 148 ST', 'NEWARK C', 'BUHRE AV', '25 ST', 'SENECA AVE', 'PENNSYLVANIA AV', '182-183 STS', 'EAST 105 ST', 'BEVERLEY ROAD', '80 ST', '190 ST', 'HEWES ST', 'NORWOOD AV', 'INTERVALE AV', '138/GRAND CONC', '104 ST', 'JACKSON AV', '65 ST', 'MARBLE HILL-225', '233 ST', 'AVENUE H', 'VAN SICLEN AVE', 'CYPRESS AV', '225 ST', '25 AV', 'NECK RD', 'DITMAS AV', 'LONGWOOD AV', '75 ST-ELDERTS', 'SUTTER AV', 'CLEVELAND ST', 'CHAUNCEY ST', '85 ST-FOREST PK', 'LIVONIA AV', 'OCEAN PKWY', 'BEVERLY RD', 'ZEREGA AV', '39 AV', 'JUNIUS ST', 'SHEPHERD AV', 'W 8 ST-AQUARIUM', '219 ST', 'NEREID AV', 'BURKE AV', 'MORRIS PARK', '75 AV', '238 ST', 'ALABAMA AV', 'BAYCHESTER AV', 'BEACH 67 ST', 'ASTORIA BLVD', 'LIBERTY AV', 'AVENUE X', 'WHITLOCK AV', 'RIT-MANHATTAN', '88 ST', 'AVENUE N', 'MIDDLETOWN RD', 'RIT-ROOSEVELT', 'BEACH 25 ST', '121 ST', '21 ST', 'BEACH 60 ST', 'BOTANIC GARDEN', 'BRONX PARK EAST', 'BUSHWICK AV', 'AVENUE P', 'BAY 50 ST', '55 ST', 'AVENUE I', 'AQUEDUCT N.COND', '215 ST', 'ATLANTIC AV', 'CYPRESS HILLS', \"E 143/ST MARY'S\", 'AQUEDUCT RACETR', 'BEACH 90 ST', 'BEACH 36 ST', 'NEPTUNE AV', 'ROCKAWAY PARK B', 'BEACH 44 ST', 'BEACH 98 ST', 'TOMPKINSVILLE', 'BEACH 105 ST', 'BROAD CHANNEL', 'ORCHARD BEACH']\n"
     ]
    }
   ],
   "source": [
    "print(station_names)"
   ]
  },
  {
   "cell_type": "code",
   "execution_count": 36,
   "metadata": {},
   "outputs": [
    {
     "data": {
      "text/plain": [
       "False"
      ]
     },
     "execution_count": 36,
     "metadata": {},
     "output_type": "execute_result"
    }
   ],
   "source": [
    "'DITMARS BLVD' in station_names"
   ]
  },
  {
   "cell_type": "code",
   "execution_count": null,
   "metadata": {},
   "outputs": [],
   "source": []
  }
 ],
 "metadata": {
  "kernelspec": {
   "display_name": "Python 3",
   "language": "python",
   "name": "python3"
  },
  "language_info": {
   "codemirror_mode": {
    "name": "ipython",
    "version": 3
   },
   "file_extension": ".py",
   "mimetype": "text/x-python",
   "name": "python",
   "nbconvert_exporter": "python",
   "pygments_lexer": "ipython3",
   "version": "3.7.4"
  }
 },
 "nbformat": 4,
 "nbformat_minor": 2
}
